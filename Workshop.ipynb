{
 "cells": [
  {
   "cell_type": "markdown",
   "metadata": {
    "nbpresent": {
     "id": "f77e2465-07f3-4ad0-ab0b-970cc19da161"
    }
   },
   "source": [
    "# <center> CSCAR WORKSHOP - Data Science Skills Series\n",
    "## <center> Supervised Machine Learning: Support Vector Machines (SVMs)\n",
    "### <center> Marcio Mourao - 11/29/2017\n"
   ]
  },
  {
   "cell_type": "markdown",
   "metadata": {},
   "source": [
    "# <center> Setup for Anaconda / Jupyter Notebook\n",
    "\n",
    "<ul>\n",
    "    <li>Go to the page https://marcio-mourao.github.io/</li>\n",
    "    <li>Download the materials under \"Supervised Machine Learning in Python using Scikit-Learn (SVMs)\" to your \"username/Documents\"</li><br/>\n",
    "    \n",
    "    <li>Click the Windows button (Bottom Left Corner)</li>\n",
    "    <li>Click \"All apps\"</li>\n",
    "    <li>Click \"Anaconda3 (64-bit)\"</li>\n",
    "    <li>Click \"Anaconda Prompt\" </li>\n",
    "    <li>Enter \"conda update scikit-learn\"</li><br/>\n",
    "    \n",
    "    <li>Click the Windows button (Bottom Left Corner)</li>\n",
    "    <li>Click \"All apps\"</li>\n",
    "    <li>Click \"Anaconda3 (64-bit)\"</li>\n",
    "    <li>Click \"Jupyter Notebook\" </li><br/>\n",
    "    \n",
    "    <li>Click \"Workshop.ipynb\" (this should open a new tab in the browser)</li>\n",
    "</ul>"
   ]
  },
  {
   "cell_type": "markdown",
   "metadata": {},
   "source": [
    "# <center> Introduction\n",
    "\n",
    "<ul>\n",
    "  <li>Please, sign up the sheet! </li>\n",
    "  <li>Don't forget to go to: http://cscar.research.umich.edu/ to know what we're offering!</li>\n",
    "  <li>Any questions/feedback, you can send an email to <a href=\"mailto:mdam@umich.edu\" target=\"_top\">Marcio.</a>\n",
    "</ul>"
   ]
  },
  {
   "cell_type": "markdown",
   "metadata": {},
   "source": [
    "# <center> Summary of this workshop\n",
    "\n",
    "<ul>\n",
    "  <li>SVM (use handwritten digits dataset) </li>\n",
    "  <ul>\n",
    "     <li>Brief description of the dataset</li>\n",
    "     <li>Load and describe the data</li>\n",
    "     <li>Machine Learning</li>\n",
    "  </ul><br>\n",
    "  <li>SVM (use the 1994 census dataset)</li>\n",
    "  <ul>\n",
    "     <li>Brief description of the dataset</li>\n",
    "     <li>Load and describe the data (using Pandas dataframes)</li>\n",
    "     <li>Machine Learning</li>\n",
    "  </ul><br>\n",
    "</ul>\n"
   ]
  },
  {
   "cell_type": "markdown",
   "metadata": {},
   "source": [
    "# <center> References\n",
    "\n",
    "<ul>\n",
    "  <li>https://www.continuum.io/anaconda-overview</li>\n",
    "  <li>http://pandas.pydata.org/pandas-docs/stable/10min.html</li>\n",
    "  <li>http://scikit-learn.org/stable/</li>\n",
    "  <li>http://scikit-learn.org/stable/modules/svm.html</li>\n",
    "  <li>http://scikit-learn.org/stable/auto_examples/svm/plot_rbf_parameters.html</li>\n",
    "</ul>"
   ]
  },
  {
   "cell_type": "markdown",
   "metadata": {},
   "source": [
    "## Import relevant general modules"
   ]
  },
  {
   "cell_type": "code",
   "execution_count": null,
   "metadata": {
    "collapsed": true
   },
   "outputs": [],
   "source": [
    "%matplotlib inline\n",
    "import numpy as np\n",
    "import pandas as pd\n",
    "import matplotlib.pyplot as plt"
   ]
  },
  {
   "cell_type": "code",
   "execution_count": null,
   "metadata": {},
   "outputs": [],
   "source": [
    "import sys\n",
    "print(sys.version)\n",
    "\n",
    "print(np.__version__)\n",
    "print(pd.__version__)"
   ]
  },
  {
   "cell_type": "markdown",
   "metadata": {},
   "source": [
    "# <center> Handwritten Digits Dataset"
   ]
  },
  {
   "cell_type": "markdown",
   "metadata": {},
   "source": [
    "## Some info about the dataset"
   ]
  },
  {
   "cell_type": "markdown",
   "metadata": {},
   "source": [
    "The handwritten digits dataset is made up of 1797 8x8 images \n",
    "\n",
    "Each image is of a hand-written digit\n",
    "\n",
    "The goal is to recognize handwritten digits"
   ]
  },
  {
   "cell_type": "code",
   "execution_count": null,
   "metadata": {
    "collapsed": true
   },
   "outputs": [],
   "source": [
    "#Import modules\n",
    "from sklearn import datasets"
   ]
  },
  {
   "cell_type": "markdown",
   "metadata": {},
   "source": [
    "## Load and describe the data"
   ]
  },
  {
   "cell_type": "code",
   "execution_count": null,
   "metadata": {},
   "outputs": [],
   "source": [
    "#Load the digits dataset\n",
    "digits = datasets.load_digits()\n",
    "digits"
   ]
  },
  {
   "cell_type": "code",
   "execution_count": null,
   "metadata": {},
   "outputs": [],
   "source": [
    "print(digits.data)\n",
    "print(digits.data.shape)"
   ]
  },
  {
   "cell_type": "code",
   "execution_count": null,
   "metadata": {},
   "outputs": [],
   "source": [
    "print(digits.images)\n",
    "print(digits.images.shape)"
   ]
  },
  {
   "cell_type": "code",
   "execution_count": null,
   "metadata": {},
   "outputs": [],
   "source": [
    "print(digits.target)\n",
    "print(digits.target.shape)"
   ]
  },
  {
   "cell_type": "code",
   "execution_count": null,
   "metadata": {},
   "outputs": [],
   "source": [
    "#As an example, displays a digit\n",
    "print(digits.target[-2])\n",
    "print(digits.data[-2])\n",
    "plt.imshow(digits.images[-2], cmap=plt.cm.gray_r)\n",
    "plt.show()"
   ]
  },
  {
   "cell_type": "markdown",
   "metadata": {},
   "source": [
    "## Machine Learning"
   ]
  },
  {
   "cell_type": "code",
   "execution_count": null,
   "metadata": {
    "collapsed": true
   },
   "outputs": [],
   "source": [
    "from sklearn import metrics, svm\n",
    "from sklearn.model_selection import train_test_split, KFold, cross_val_score"
   ]
  },
  {
   "cell_type": "code",
   "execution_count": null,
   "metadata": {},
   "outputs": [],
   "source": [
    "#Create predictors and target sets\n",
    "X, y = digits.data, digits.target\n",
    "\n",
    "#Obtain the data for the fitting\n",
    "X_train, X_test, y_train, y_test = train_test_split(X, y, random_state = 13, stratify = y)\n",
    "\n",
    "print('Total number of records: ', digits.data.shape[0])\n",
    "print('Type of X_train: ', type(X_train))\n",
    "print('Number of records in X_train: ', len(X_train))\n",
    "print('Fraction on X_train: ', len(X_train)/digits.data.shape[0])\n",
    "print('Number of records in y_train: ', len(y_train))\n",
    "print('Type of y_train: \\n\\n', type(y_train))\n",
    "\n",
    "print('Type of X_test: ', type(X_test))\n",
    "print('Number of records in X_test: ', len(X_test))\n",
    "print('Fraction on X_test: ', len(X_test)/digits.data.shape[0])\n",
    "print('Number of records in y_test: ', len(y_test))\n",
    "print('Type of y_test: ', type(y_test))"
   ]
  },
  {
   "cell_type": "code",
   "execution_count": null,
   "metadata": {
    "collapsed": true
   },
   "outputs": [],
   "source": [
    "#Check SVC specification\n",
    "?svm.SVC"
   ]
  },
  {
   "cell_type": "code",
   "execution_count": null,
   "metadata": {},
   "outputs": [],
   "source": [
    "#Creates the object\n",
    "SVM_model = svm.SVC()\n",
    "\n",
    "#Fit to the data\n",
    "SVM_model.fit(X_train, y_train)"
   ]
  },
  {
   "cell_type": "code",
   "execution_count": null,
   "metadata": {},
   "outputs": [],
   "source": [
    "#Obtain scores from the SVM model on a subset of the test samples\n",
    "dec = SVM_model.decision_function(X_test[0:2,:])\n",
    "dec"
   ]
  },
  {
   "cell_type": "code",
   "execution_count": null,
   "metadata": {},
   "outputs": [],
   "source": [
    "#Predict class on a subset of the test samples\n",
    "SVM_model.predict(X_test[0:2,:])"
   ]
  },
  {
   "cell_type": "code",
   "execution_count": null,
   "metadata": {},
   "outputs": [],
   "source": [
    "#Obtain probability predictions (only works if probability = True in the creation of the SVM object)\n",
    "#y_pred_SVM_prob = SVM_model.predict_proba(X_test)\n",
    "#print('Predicted probabilities: \\n', y_pred_SVM_prob)\n",
    "\n",
    "#Obtain class predictions\n",
    "y_pred_SVM_class = SVM_model.predict(X_test)\n",
    "print('Predicted classes: \\n', y_pred_SVM_class)"
   ]
  },
  {
   "cell_type": "code",
   "execution_count": null,
   "metadata": {},
   "outputs": [],
   "source": [
    "#Obtains confusion matrix\n",
    "SVM_cm=metrics.confusion_matrix(y_test, y_pred_SVM_class)\n",
    "SVM_cm"
   ]
  },
  {
   "cell_type": "code",
   "execution_count": null,
   "metadata": {},
   "outputs": [],
   "source": [
    "#Obtains accuracy score in the test set\n",
    "print('SVM Score: ', metrics.accuracy_score(y_test, y_pred_SVM_class))"
   ]
  },
  {
   "cell_type": "code",
   "execution_count": null,
   "metadata": {},
   "outputs": [],
   "source": [
    "#KFolds and Cross_val_scores\n",
    "kf = KFold(n_splits = 10, shuffle = True, random_state = 13)\n",
    "print('Cross validation score: ', cross_val_score(SVM_model, X, y, cv=kf).mean())"
   ]
  },
  {
   "cell_type": "code",
   "execution_count": null,
   "metadata": {},
   "outputs": [],
   "source": [
    "#Obtain optimal SVM for both parameters C and Gamma\n",
    "from sklearn.model_selection import GridSearchCV\n",
    "\n",
    "C_range = np.logspace(-6, 6, 5)\n",
    "gamma_range = np.logspace(-6, 6, 5)\n",
    "param_grid = dict(C = C_range, gamma = gamma_range)\n",
    "cv = KFold(n_splits=3, random_state = 13)\n",
    "\n",
    "grid = GridSearchCV(svm.SVC(), param_grid=param_grid, cv=cv)\n",
    "grid.fit(X, y)\n",
    "\n",
    "print(\"The best parameters are %s with a score of %0.2f\" % (grid.best_params_, grid.best_score_))"
   ]
  },
  {
   "cell_type": "markdown",
   "metadata": {},
   "source": [
    "# <center> 1994 Census Dataset"
   ]
  },
  {
   "cell_type": "markdown",
   "metadata": {},
   "source": [
    "## Some info about the dataset"
   ]
  },
  {
   "cell_type": "markdown",
   "metadata": {},
   "source": [
    "This data was extracted from the 1994 Census bureau database by Ronny Kohavi and Barry Becker (Data Mining and Visualization, Silicon Graphics). A set of reasonably clean records was extracted using the following conditions: ((AAGE>16) && (AGI>100) && (AFNLWGT>1) && (HRSWK>0)). \n",
    "\n",
    "<b>The prediction task is to determine whether a person makes over $50K a year!</b>\n",
    "\n",
    "<b>Attributes:</b>\n",
    "\n",
    "income: >50K, <=50K\n",
    "\n",
    "age: continuous\n",
    "\n",
    "workclass: Private, Self-emp-not-inc, Self-emp-inc, Federal-gov, Local-gov, State-gov, Without-pay, Never-worked\n",
    "\n",
    "fnlwgt: continuous\n",
    "\n",
    "education: Bachelors, Some-college, 11th, HS-grad, Prof-school, Assoc-acdm, Assoc-voc, 9th, 7th-8th, 12th, Masters, 1st-4th, 10th, Doctorate, 5th-6th, Preschool\n",
    "\n",
    "education-num: continuous\n",
    "\n",
    "marital-status: Married-civ-spouse, Divorced, Never-married, Separated, Widowed, Married-spouse-absent, Married-AF-spouse\n",
    "\n",
    "occupation: Tech-support, Craft-repair, Other-service, Sales, Exec-managerial, Prof-specialty, Handlers-cleaners, Machine-op-inspct, Adm-clerical, Farming-fishing, Transport-moving, Priv-house-serv, Protective-serv, Armed-Forces\n",
    "\n",
    "relationship: Wife, Own-child, Husband, Not-in-family, Other-relative, Unmarried\n",
    "\n",
    "race: White, Asian-Pac-Islander, Amer-Indian-Eskimo, Other, Black\n",
    "\n",
    "sex: Female, Male\n",
    "\n",
    "capital-gain: continuous\n",
    "\n",
    "capital-loss: continuous\n",
    "\n",
    "hours-per-week: continuous\n",
    "\n",
    "native-country: United-States, Cambodia, England, Puerto-Rico, Canada, Germany, Outlying-US(Guam-USVI-etc), India, Japan, Greece, South, China, Cuba, Iran, Honduras, Philippines, Italy, Poland, Jamaica, Vietnam, Mexico, Portugal, Ireland, France, Dominican-Republic, Laos, Ecuador, Taiwan, Haiti, Columbia, Hungary, Guatemala, Nicaragua, Scotland, Thailand, Yugoslavia, El-Salvador, Trinadad&Tobago, Peru, Hong, Holand-Netherlands"
   ]
  },
  {
   "cell_type": "markdown",
   "metadata": {},
   "source": [
    "## Load and describe the data"
   ]
  },
  {
   "cell_type": "code",
   "execution_count": null,
   "metadata": {
    "nbpresent": {
     "id": "1862e15b-a819-4062-93a3-b68d3f0a0865"
    }
   },
   "outputs": [],
   "source": [
    "#Creates a dataframe named \"adults\" from reading the file \"adult.csv\"\n",
    "adults = pd.read_csv('adult.csv', na_values=['?'])\n",
    "adults.head()"
   ]
  },
  {
   "cell_type": "code",
   "execution_count": null,
   "metadata": {},
   "outputs": [],
   "source": [
    "#Displays number of lines and number of columns of the dataframe\n",
    "adults.shape"
   ]
  },
  {
   "cell_type": "code",
   "execution_count": null,
   "metadata": {},
   "outputs": [],
   "source": [
    "#Displays the data types associated with each dataframe column\n",
    "adults.dtypes"
   ]
  },
  {
   "cell_type": "code",
   "execution_count": null,
   "metadata": {
    "scrolled": true
   },
   "outputs": [],
   "source": [
    "#Describes everything in the dataframe\n",
    "adults.describe(include='all')"
   ]
  },
  {
   "cell_type": "code",
   "execution_count": null,
   "metadata": {
    "nbpresent": {
     "id": "61b8eb03-4209-4149-bd6d-dd930fd1bde1"
    },
    "scrolled": true
   },
   "outputs": [],
   "source": [
    "#Displays whether columns contain any null values\n",
    "adults.isnull().any(axis=0)"
   ]
  },
  {
   "cell_type": "code",
   "execution_count": null,
   "metadata": {},
   "outputs": [],
   "source": [
    "#Count the number of missing values in each column of the dataframe\n",
    "adults.apply(lambda x: sum(x.isnull()),axis=0)"
   ]
  },
  {
   "cell_type": "code",
   "execution_count": null,
   "metadata": {},
   "outputs": [],
   "source": [
    "#Count the number of missing values in each column of the dataframe and sums them up\n",
    "adults.apply(lambda x: sum(x.isnull()),axis=0).sum()"
   ]
  },
  {
   "cell_type": "code",
   "execution_count": null,
   "metadata": {},
   "outputs": [],
   "source": [
    "#Count number of lines with NaNs\n",
    "adults.apply(lambda x: x.isnull().any(),axis=1).sum()"
   ]
  },
  {
   "cell_type": "code",
   "execution_count": null,
   "metadata": {},
   "outputs": [],
   "source": [
    "#Fraction of observations with NaNs (potentially for removal)\n",
    "2399/adults.shape[0]"
   ]
  },
  {
   "cell_type": "code",
   "execution_count": null,
   "metadata": {},
   "outputs": [],
   "source": [
    "#Removes any lines from the dataframe that contains NaNs \n",
    "#(be careful about what you decide to do with missing values)\n",
    "adults = adults.dropna(axis=0,how='any')\n",
    "adults.head()"
   ]
  },
  {
   "cell_type": "code",
   "execution_count": null,
   "metadata": {},
   "outputs": [],
   "source": [
    "#Displays number of lines and number of columns of the dataframe\n",
    "adults.shape"
   ]
  },
  {
   "cell_type": "code",
   "execution_count": null,
   "metadata": {
    "nbpresent": {
     "id": "c128b972-06c0-423d-a7b0-3faf2a3879c0"
    }
   },
   "outputs": [],
   "source": [
    "#Displays the first rows of the dataframe\n",
    "adults.head(10)"
   ]
  },
  {
   "cell_type": "markdown",
   "metadata": {},
   "source": [
    "## Machine Learning"
   ]
  },
  {
   "cell_type": "code",
   "execution_count": null,
   "metadata": {},
   "outputs": [],
   "source": [
    "#A reminder of the variables we have\n",
    "adults.columns"
   ]
  },
  {
   "cell_type": "code",
   "execution_count": null,
   "metadata": {
    "collapsed": true
   },
   "outputs": [],
   "source": [
    "#Before moving forward, lets drop potentially irrelevant features of the data\n",
    "#Feel free to go back here, drop or add features\n",
    "adults2 = adults.drop(['workclass','fnlwgt','education','capital.gain','capital.loss','native.country'], axis=1)"
   ]
  },
  {
   "cell_type": "code",
   "execution_count": null,
   "metadata": {},
   "outputs": [],
   "source": [
    "#Check types\n",
    "adults2.dtypes"
   ]
  },
  {
   "cell_type": "code",
   "execution_count": null,
   "metadata": {},
   "outputs": [],
   "source": [
    "#Obtain dummies on the object variables for scikit-learn use\n",
    "adults2 = pd.get_dummies(adults2, columns = ['marital.status', 'occupation', 'relationship', 'race', 'sex'])"
   ]
  },
  {
   "cell_type": "code",
   "execution_count": null,
   "metadata": {},
   "outputs": [],
   "source": [
    "#Check new data types\n",
    "adults2.dtypes"
   ]
  },
  {
   "cell_type": "code",
   "execution_count": null,
   "metadata": {},
   "outputs": [],
   "source": [
    "#Define covariates in X and dependent variable in y\n",
    "X = adults2.loc[:,adults2.columns != 'income']\n",
    "y = adults2.loc[:, 'income']\n",
    "\n",
    "print(X.shape)\n",
    "print(y.shape)"
   ]
  },
  {
   "cell_type": "code",
   "execution_count": null,
   "metadata": {},
   "outputs": [],
   "source": [
    "#Obtain the data for the fitting\n",
    "X_train, X_test, y_train, y_test = train_test_split(X, y, random_state=13, stratify = y)\n",
    "\n",
    "print('Total number of records: ', adults2.shape[0])\n",
    "print('Type of X_train: ', type(X_train))\n",
    "print('Number of records in X_train: ', len(X_train))\n",
    "print('Fraction on X_train: ', len(X_train)/adults2.shape[0])\n",
    "print('Number of records in y_train: ', len(y_train))\n",
    "print('Type of y_train: \\n\\n', type(y_train))\n",
    "\n",
    "print('Type of X_test: ', type(X_test))\n",
    "print('Number of records in X_test: ', len(X_test))\n",
    "print('Fraction on X_test: ', len(X_test)/adults2.shape[0])\n",
    "print('Number of records in y_test: ', len(y_test))\n",
    "print('Type of y_test: ', type(y_test))"
   ]
  },
  {
   "cell_type": "code",
   "execution_count": null,
   "metadata": {},
   "outputs": [],
   "source": [
    "#Creates the object\n",
    "SVM_model = svm.SVC()\n",
    "\n",
    "#Fit to the data\n",
    "SVM_model.fit(X_train,y_train)"
   ]
  },
  {
   "cell_type": "code",
   "execution_count": null,
   "metadata": {},
   "outputs": [],
   "source": [
    "#Obtain class predictions\n",
    "y_pred_SVM_class = SVM_model.predict(X_test)\n",
    "print('Predicted classes: \\n', y_pred_SVM_class)"
   ]
  },
  {
   "cell_type": "code",
   "execution_count": null,
   "metadata": {},
   "outputs": [],
   "source": [
    "#Obtains confusion matrix\n",
    "SVM_cm=metrics.confusion_matrix(y_test,y_pred_SVM_class)\n",
    "SVM_cm"
   ]
  },
  {
   "cell_type": "code",
   "execution_count": null,
   "metadata": {},
   "outputs": [],
   "source": [
    "#Obtains accuracy score\n",
    "print('SVM Score: ', metrics.accuracy_score(y_test, y_pred_SVM_class))"
   ]
  }
 ],
 "metadata": {
  "anaconda-cloud": {},
  "kernelspec": {
   "display_name": "Python 3",
   "language": "python",
   "name": "python3"
  },
  "language_info": {
   "codemirror_mode": {
    "name": "ipython",
    "version": 3
   },
   "file_extension": ".py",
   "mimetype": "text/x-python",
   "name": "python",
   "nbconvert_exporter": "python",
   "pygments_lexer": "ipython3",
   "version": "3.6.3"
  },
  "nbpresent": {
   "slides": {
    "8ce21dab-2b7a-439c-8f0a-8a1036a1ac0d": {
     "id": "8ce21dab-2b7a-439c-8f0a-8a1036a1ac0d",
     "prev": null,
     "regions": {
      "d8401624-efe9-4853-a676-de863b4ba3cd": {
       "attrs": {
        "height": 1,
        "width": 1,
        "x": 0,
        "y": 0
       },
       "id": "d8401624-efe9-4853-a676-de863b4ba3cd"
      }
     },
     "theme": null
    }
   },
   "themes": {}
  }
 },
 "nbformat": 4,
 "nbformat_minor": 1
}
